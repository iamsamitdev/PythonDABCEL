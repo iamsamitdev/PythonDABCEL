{
 "cells": [
  {
   "cell_type": "markdown",
   "metadata": {},
   "source": [
    "#### 1. Import Numpy"
   ]
  },
  {
   "cell_type": "code",
   "execution_count": 1,
   "metadata": {},
   "outputs": [],
   "source": [
    "import numpy as np"
   ]
  },
  {
   "cell_type": "markdown",
   "metadata": {},
   "source": [
    "#### 2. Array in Numpy"
   ]
  },
  {
   "cell_type": "code",
   "execution_count": 9,
   "metadata": {},
   "outputs": [
    {
     "name": "stdout",
     "output_type": "stream",
     "text": [
      "10\n",
      "[1 2 3]\n",
      "[[1]\n",
      " [2]\n",
      " [3]]\n",
      "[[10 11 12]\n",
      " [13 14 15]]\n"
     ]
    }
   ],
   "source": [
    "# 2.1 Scalar Array\n",
    "a = np.array(10)\n",
    "print(a)\n",
    "\n",
    "# 2.2 Vector Array\n",
    "row = np.array([1, 2, 3]) # 1 row and 3 columns\n",
    "col = np.array([[1], [2], [3]]) # 3 rows and 1 column\n",
    "print(row)\n",
    "print(col)\n",
    "\n",
    "# 2.3 Matrix Array\n",
    "matrix = np.array([[10, 11, 12], [13, 14, 15]]) # 2x3 matrix\n",
    "print(matrix)"
   ]
  },
  {
   "cell_type": "markdown",
   "metadata": {},
   "source": [
    "#### 3. การหาค่าทางสถิติของข้อมูลด้วย numpy"
   ]
  },
  {
   "cell_type": "code",
   "execution_count": 19,
   "metadata": {},
   "outputs": [
    {
     "name": "stdout",
     "output_type": "stream",
     "text": [
      "[[ 1  2  3  4]\n",
      " [ 5  6  7  8]\n",
      " [ 9 10 11 12]]\n",
      "Max: 12\n",
      "Min: 1\n",
      "Mean: 6.5\n",
      "Median: 6.5\n",
      "Standard deviation: 3.452052529534663\n",
      "Variance: 11.916666666666666\n"
     ]
    }
   ],
   "source": [
    "stat = np.array([[1,2,3,4],[5,6,7,8],[9,10,11,12]]) # 3x4 matrix\n",
    "print(stat)\n",
    "\n",
    "# หาค่าสูงสุด (max)\n",
    "print(\"Max:\", np.max(stat))\n",
    "\n",
    "# หาค่าต่ำสุด (min)\n",
    "print(\"Min:\", np.min(stat))\n",
    "\n",
    "# หาค่าเฉลี่ย (mean)\n",
    "print(\"Mean:\", np.mean(stat))\n",
    "\n",
    "# ค่ามัธยฐาน (median)\n",
    "print(\"Median:\", np.median(stat))\n",
    "\n",
    "# ค่าส่วนเบี่ยงเบนมาตรฐาน (standard deviation)\n",
    "print(\"Standard deviation:\", np.std(stat))\n",
    "\n",
    "# ค่าความแปรปรวน (variance)\n",
    "print(\"Variance:\", np.var(stat))"
   ]
  }
 ],
 "metadata": {
  "kernelspec": {
   "display_name": "env",
   "language": "python",
   "name": "python3"
  },
  "language_info": {
   "codemirror_mode": {
    "name": "ipython",
    "version": 3
   },
   "file_extension": ".py",
   "mimetype": "text/x-python",
   "name": "python",
   "nbconvert_exporter": "python",
   "pygments_lexer": "ipython3",
   "version": "3.10.1"
  },
  "orig_nbformat": 4
 },
 "nbformat": 4,
 "nbformat_minor": 2
}
