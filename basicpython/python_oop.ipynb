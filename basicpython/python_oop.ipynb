{
 "cells": [
  {
   "cell_type": "markdown",
   "metadata": {},
   "source": [
    "#### 1. Class in Python"
   ]
  },
  {
   "cell_type": "code",
   "execution_count": 5,
   "metadata": {},
   "outputs": [],
   "source": [
    "class Person():\n",
    "    # Attribute\n",
    "    name = \"\"\n",
    "    age = 0\n",
    "    gender = \"\"\n",
    "\n",
    "    # Constructor\n",
    "    def __init__(self, name, age, gender):\n",
    "        self.name = name\n",
    "        self.age = age\n",
    "        self.gender = gender\n",
    "\n",
    "    # Method\n",
    "    def year_of_birth(self):\n",
    "        return 2023 - self.age"
   ]
  },
  {
   "cell_type": "markdown",
   "metadata": {},
   "source": [
    "#### 2. Create Object"
   ]
  },
  {
   "cell_type": "code",
   "execution_count": 10,
   "metadata": {},
   "outputs": [
    {
     "name": "stdout",
     "output_type": "stream",
     "text": [
      "John\n",
      "30\n",
      "Male\n",
      "1993\n",
      "1999\n"
     ]
    }
   ],
   "source": [
    "new_person = Person(\"John\", 30, \"Male\")\n",
    "new_person2 = Person(\"Janny\", 24, \"Female\")\n",
    "\n",
    "print(new_person.name)\n",
    "print(new_person.age)\n",
    "print(new_person.gender)\n",
    "\n",
    "print(new_person.year_of_birth())\n",
    "print(new_person2.year_of_birth())"
   ]
  }
 ],
 "metadata": {
  "kernelspec": {
   "display_name": "env",
   "language": "python",
   "name": "python3"
  },
  "language_info": {
   "codemirror_mode": {
    "name": "ipython",
    "version": 3
   },
   "file_extension": ".py",
   "mimetype": "text/x-python",
   "name": "python",
   "nbconvert_exporter": "python",
   "pygments_lexer": "ipython3",
   "version": "3.10.1"
  },
  "orig_nbformat": 4
 },
 "nbformat": 4,
 "nbformat_minor": 2
}
