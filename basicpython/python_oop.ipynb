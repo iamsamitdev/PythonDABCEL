{
 "cells": [
  {
   "cell_type": "markdown",
   "metadata": {},
   "source": [
    "#### 1. Class in Python"
   ]
  },
  {
   "cell_type": "code",
   "execution_count": 5,
   "metadata": {},
   "outputs": [],
   "source": [
    "class Person():\n",
    "    # Attribute\n",
    "    name = \"\"\n",
    "    age = 0\n",
    "    gender = \"\"\n",
    "\n",
    "    # Constructor\n",
    "    def __init__(self, name, age, gender):\n",
    "        self.name = name\n",
    "        self.age = age\n",
    "        self.gender = gender\n",
    "\n",
    "    # Method\n",
    "    def year_of_birth(self):\n",
    "        return 2023 - self.age"
   ]
  },
  {
   "cell_type": "markdown",
   "metadata": {},
   "source": [
    "#### 2. Create Object"
   ]
  },
  {
   "cell_type": "code",
   "execution_count": 10,
   "metadata": {},
   "outputs": [
    {
     "name": "stdout",
     "output_type": "stream",
     "text": [
      "John\n",
      "30\n",
      "Male\n",
      "1993\n",
      "1999\n"
     ]
    }
   ],
   "source": [
    "new_person = Person(\"John\", 30, \"Male\")\n",
    "new_person2 = Person(\"Janny\", 24, \"Female\")\n",
    "\n",
    "print(new_person.name)\n",
    "print(new_person.age)\n",
    "print(new_person.gender)\n",
    "\n",
    "print(new_person.year_of_birth())\n",
    "print(new_person2.year_of_birth())"
   ]
  },
  {
   "cell_type": "code",
   "execution_count": 6,
   "metadata": {},
   "outputs": [
    {
     "name": "stdout",
     "output_type": "stream",
     "text": [
      "--  -  -  -------------------------------------------------------  ------  --  -  -  ----------------  -------  ----  -\n",
      " 1  0  3  Braund, Mr. Owen Harris                                  male    22  1  0  A/5 21171          7.25          S\n",
      " 2  1  1  Cumings, Mrs. John Bradley (Florence Briggs Thayer)      female  38  1  0  PC 17599          71.2833  C85   C\n",
      " 3  1  3  Heikkinen, Miss. Laina                                   female  26  0  0  STON/O2. 3101282   7.925         S\n",
      " 4  1  1  Futrelle, Mrs. Jacques Heath (Lily May Peel)             female  35  1  0  113803            53.1     C123  S\n",
      " 5  0  3  Allen, Mr. William Henry                                 male    35  0  0  373450             8.05          S\n",
      " 6  0  3  Moran, Mr. James                                         male     0  0  0  330877             8.4583        Q\n",
      " 7  0  1  McCarthy, Mr. Timothy J                                  male    54  0  0  17463             51.8625  E46   S\n",
      " 8  0  3  Palsson, Master. Gosta Leonard                           male     2  3  1  349909            21.075         S\n",
      " 9  1  3  Johnson, Mrs. Oscar W (Elisabeth Vilhelmina Berg)        female  27  0  2  347742            11.1333        S\n",
      "10  1  2  Nasser, Mrs. Nicholas (Adele Achem)                      female  14  1  0  237736            30.0708        C\n",
      "11  1  3  Sandstrom, Miss. Marguerite Rut                          female   4  1  1  PP 9549           16.7     G6    S\n",
      "12  1  1  Bonnell, Miss. Elizabeth                                 female  58  0  0  113783            26.55    C103  S\n",
      "13  0  3  Saundercock, Mr. William Henry                           male    20  0  0  A/5. 2151          8.05          S\n",
      "14  0  3  Andersson, Mr. Anders Johan                              male    39  1  5  347082            31.275         S\n",
      "15  0  3  Vestrom, Miss. Hulda Amanda Adolfina                     female  14  0  0  350406             7.8542        S\n",
      "16  1  2  Hewlett, Mrs. (Mary D Kingcome)                          female  55  0  0  248706            16             S\n",
      "17  0  3  Rice, Master. Eugene                                     male     2  4  1  382652            29.125         Q\n",
      "18  1  2  Williams, Mr. Charles Eugene                             male     0  0  0  244373            13             S\n",
      "19  0  3  Vander Planke, Mrs. Julius (Emelia Maria Vandemoortele)  female  31  1  0  345763            18             S\n",
      "20  1  3  Masselmani, Mrs. Fatima                                  female   0  0  0  2649               7.225         C\n",
      "--  -  -  -------------------------------------------------------  ------  --  -  -  ----------------  -------  ----  -\n"
     ]
    }
   ],
   "source": [
    "from module import connectmaraidb\n",
    "\n",
    "# Fetch data from MariaDB\n",
    "def fetch_data():\n",
    "    # Connect to MariaDB\n",
    "    conn = connectmaraidb.connect()\n",
    "    # Create cursor\n",
    "    cur = conn.cursor()\n",
    "    # Execute SQL query\n",
    "    cur.execute(\"SELECT * FROM titanic LIMIT 20\")\n",
    "    # Fetch all rows\n",
    "    rows = cur.fetchall()\n",
    "    # Close cursor\n",
    "    cur.close()\n",
    "    # Close connection\n",
    "    conn.close()\n",
    "    # Return rows\n",
    "    return rows\n",
    "\n",
    "# Print data to console format with tabulate\n",
    "from tabulate import tabulate\n",
    "\n",
    "table = fetch_data()\n",
    "\n",
    "print(tabulate(table))"
   ]
  }
 ],
 "metadata": {
  "kernelspec": {
   "display_name": "env",
   "language": "python",
   "name": "python3"
  },
  "language_info": {
   "codemirror_mode": {
    "name": "ipython",
    "version": 3
   },
   "file_extension": ".py",
   "mimetype": "text/x-python",
   "name": "python",
   "nbconvert_exporter": "python",
   "pygments_lexer": "ipython3",
   "version": "3.10.1"
  },
  "orig_nbformat": 4
 },
 "nbformat": 4,
 "nbformat_minor": 2
}
