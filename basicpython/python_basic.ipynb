{
 "cells": [
  {
   "cell_type": "markdown",
   "metadata": {},
   "source": [
    "#### 1. Variable in Python"
   ]
  },
  {
   "cell_type": "code",
   "execution_count": 2,
   "metadata": {},
   "outputs": [
    {
     "name": "stdout",
     "output_type": "stream",
     "text": [
      "Apple\n"
     ]
    }
   ],
   "source": [
    "product_name = \"Apple\"\n",
    "\n",
    "print(product_name)"
   ]
  },
  {
   "cell_type": "code",
   "execution_count": 3,
   "metadata": {},
   "outputs": [
    {
     "data": {
      "text/plain": [
       "str"
      ]
     },
     "execution_count": 3,
     "metadata": {},
     "output_type": "execute_result"
    }
   ],
   "source": [
    "# การเช็คประเภทของตัวแปร\n",
    "# ใช้คำสั่ง type()\n",
    "type(product_name)"
   ]
  },
  {
   "cell_type": "code",
   "execution_count": 7,
   "metadata": {},
   "outputs": [
    {
     "name": "stdout",
     "output_type": "stream",
     "text": [
      "10\n",
      "20.5\n",
      "<class 'int'>\n",
      "<class 'float'>\n",
      "<class 'bool'>\n"
     ]
    }
   ],
   "source": [
    "a = 10\n",
    "b = 20.50\n",
    "c = True\n",
    "d = False\n",
    "\n",
    "print(a)\n",
    "print(b)\n",
    "print(type(a))\n",
    "print(type(b))\n",
    "print(type(c))"
   ]
  },
  {
   "cell_type": "markdown",
   "metadata": {},
   "source": [
    "#### 2. ตัวอย่างการกำหนดเงื่อนไข  (Conditional Statement)"
   ]
  },
  {
   "cell_type": "code",
   "execution_count": 12,
   "metadata": {},
   "outputs": [
    {
     "name": "stdout",
     "output_type": "stream",
     "text": [
      "Buy it\n"
     ]
    }
   ],
   "source": [
    "# เงื่อนไขแบบ if else\n",
    "\n",
    "price = 100\n",
    "\n",
    "if price < 100:\n",
    "    print(\"Buy it\")\n",
    "elif price == 100:\n",
    "    print(\"Buy it\")\n",
    "else:\n",
    "    print(\"Too expensive\")"
   ]
  },
  {
   "cell_type": "markdown",
   "metadata": {},
   "source": [
    "#### 3. การทำซ้ำ (Loop)"
   ]
  },
  {
   "cell_type": "code",
   "execution_count": 21,
   "metadata": {},
   "outputs": [
    {
     "name": "stdout",
     "output_type": "stream",
     "text": [
      "1\n",
      "2\n",
      "3\n",
      "4\n",
      "5\n",
      "6\n",
      "7\n",
      "8\n",
      "9\n",
      "10\n"
     ]
    }
   ],
   "source": [
    "# for loop\n",
    "for i in range(1,11):\n",
    "    print(i)"
   ]
  },
  {
   "cell_type": "code",
   "execution_count": 20,
   "metadata": {},
   "outputs": [
    {
     "name": "stdout",
     "output_type": "stream",
     "text": [
      "Round 1\n",
      "Round 2\n",
      "Round 3\n",
      "Round 4\n",
      "Round 5\n"
     ]
    }
   ],
   "source": [
    "# while loop\n",
    "round = 1\n",
    "while round <= 5:\n",
    "    print(\"Round\", round)\n",
    "    round += 1"
   ]
  },
  {
   "cell_type": "markdown",
   "metadata": {},
   "source": [
    "#### 4. ตัวแปรแบบ List และการใช้งาน"
   ]
  },
  {
   "cell_type": "code",
   "execution_count": 33,
   "metadata": {},
   "outputs": [
    {
     "name": "stdout",
     "output_type": "stream",
     "text": [
      "[1, 2, 3, 4, 5]\n",
      "3\n",
      "5\n",
      "1\n",
      "3\n",
      "5\n"
     ]
    }
   ],
   "source": [
    "numbers = [1, 2, 3, 4, 5]\n",
    "print(numbers) # แสดงสมาชิกทั้งหมดของ list\n",
    "\n",
    "print(numbers[2]) # แสดงสมาชิกตำแหน่งที่ 2 ของ list\n",
    "print(len(numbers)) # นับจำนวนสมาชิกใน list\n",
    "\n",
    "# การวนลูป list\n",
    "for number in numbers:\n",
    "    if number % 2 == 1:\n",
    "        print(number)\n"
   ]
  },
  {
   "cell_type": "markdown",
   "metadata": {},
   "source": [
    "#### 5. ตัวแปรประเภท Dictionary"
   ]
  },
  {
   "cell_type": "code",
   "execution_count": 38,
   "metadata": {},
   "outputs": [
    {
     "name": "stdout",
     "output_type": "stream",
     "text": [
      "800\n",
      "john 1200\n",
      "bob 800\n",
      "alice 1500\n"
     ]
    }
   ],
   "source": [
    "# define a dictionary\n",
    "scores = {\n",
    "    'john': 1200,\n",
    "    'bob': 800,\n",
    "    'alice': 1500\n",
    "}\n",
    "\n",
    "print(scores['bob'])\n",
    "\n",
    "# loop through dictionary\n",
    "# scores.keys() , scores.values(), scores.items()\n",
    "for key,val in scores.items():\n",
    "    print(key, val)"
   ]
  },
  {
   "cell_type": "markdown",
   "metadata": {},
   "source": [
    "##### 6. ตัวแปรแบบ Sets"
   ]
  },
  {
   "cell_type": "code",
   "execution_count": 39,
   "metadata": {},
   "outputs": [
    {
     "name": "stdout",
     "output_type": "stream",
     "text": [
      "{2, 3, 6, 7, 22, 77, 15}\n"
     ]
    }
   ],
   "source": [
    "# การสร้าง sets ใน Python\n",
    "number_set = {77, 2, 6, 7, 15, 22, 3, 15, 6}\n",
    "\n",
    "print(number_set)"
   ]
  },
  {
   "cell_type": "markdown",
   "metadata": {},
   "source": [
    "#### 7. ฟังก์ชันใน Python"
   ]
  },
  {
   "cell_type": "code",
   "execution_count": 41,
   "metadata": {},
   "outputs": [
    {
     "name": "stdout",
     "output_type": "stream",
     "text": [
      "Welcome to Python\n"
     ]
    }
   ],
   "source": [
    "# ฟังก์ชันที่ไม่มีการรับค่าพารามิเตอร์ (define function)\n",
    "def welcome():\n",
    "    print(\"Welcome to Python\")\n",
    "\n",
    "# เรียกใช้งานฟังก์ชัน (call function)\n",
    "welcome()"
   ]
  },
  {
   "cell_type": "code",
   "execution_count": 47,
   "metadata": {},
   "outputs": [
    {
     "name": "stdout",
     "output_type": "stream",
     "text": [
      "50\n",
      "2000\n"
     ]
    }
   ],
   "source": [
    "# ฟังก์ชันแบบมีการรับค่า\n",
    "def cal_area(width=0, height=0):\n",
    "    total = width * height\n",
    "    return total\n",
    "\n",
    "# เรียกใช้งานฟังก์ชัน\n",
    "print(cal_area(5, 10))\n",
    "print(cal_area(100, 20))"
   ]
  },
  {
   "cell_type": "markdown",
   "metadata": {},
   "source": [
    "##### 8. การเรียกใช้งานฟังก์ชันจาก Module อื่นๆ"
   ]
  },
  {
   "cell_type": "code",
   "execution_count": 67,
   "metadata": {},
   "outputs": [
    {
     "name": "stdout",
     "output_type": "stream",
     "text": [
      "50\n",
      "24\n",
      "100\n"
     ]
    }
   ],
   "source": [
    "from module import area, demo\n",
    "\n",
    "print(area.cal_area(5, 10))\n",
    "print(area.cal_volume(2, 3, 4))\n",
    "print(demo.cal_area(5, 10))"
   ]
  },
  {
   "cell_type": "markdown",
   "metadata": {},
   "source": [
    "#### 9. การใช้ Library จากภายนอก"
   ]
  },
  {
   "cell_type": "code",
   "execution_count": 68,
   "metadata": {},
   "outputs": [],
   "source": [
    "import qrcode\n",
    "\n",
    "# Create qr code instance\n",
    "img = qrcode.make('https://wwww.google.com')\n",
    "type(img)\n",
    "img.save('qr.png')"
   ]
  }
 ],
 "metadata": {
  "kernelspec": {
   "display_name": "env",
   "language": "python",
   "name": "python3"
  },
  "language_info": {
   "codemirror_mode": {
    "name": "ipython",
    "version": 3
   },
   "file_extension": ".py",
   "mimetype": "text/x-python",
   "name": "python",
   "nbconvert_exporter": "python",
   "pygments_lexer": "ipython3",
   "version": "3.10.1"
  },
  "orig_nbformat": 4
 },
 "nbformat": 4,
 "nbformat_minor": 2
}
